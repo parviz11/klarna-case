{
 "cells": [
  {
   "cell_type": "markdown",
   "id": "e1b3a3ba",
   "metadata": {},
   "source": [
    "# Please enter a row number in the second code block to retrieve probability of default"
   ]
  },
  {
   "cell_type": "markdown",
   "id": "996dfda5",
   "metadata": {},
   "source": [
    "* First read data from csv file,\n",
    "* Then enter row number to retrieve probability for a certain uuid\n",
    "* Retrieved default probability is printed in the bottom of the page."
   ]
  },
  {
   "cell_type": "code",
   "execution_count": 405,
   "id": "e617fe86",
   "metadata": {},
   "outputs": [],
   "source": [
    "import pandas as pd\n",
    "\n",
    "# read data file from csv here. Modify `sep` if necessary:\n",
    "\n",
    "df0 = pd.read_csv(r'dataset.csv',sep=';')\n",
    "\n",
    "df = df0[df0['default'].isna()]"
   ]
  },
  {
   "cell_type": "code",
   "execution_count": 428,
   "id": "bdc766e8",
   "metadata": {},
   "outputs": [
    {
     "name": "stdout",
     "output_type": "stream",
     "text": [
      "The probability of default for this uuid is 0.7420.\n"
     ]
    }
   ],
   "source": [
    "# Enter row number to retrieve a score\n",
    "row =  165\n",
    "\n",
    "\n",
    "import urllib.request\n",
    "import json\n",
    "import os\n",
    "import ssl\n",
    "\n",
    "def allowSelfSignedHttps(allowed):\n",
    "    # bypass the server certificate verification on client side\n",
    "    if allowed and not os.environ.get('PYTHONHTTPSVERIFY', '') and getattr(ssl, '_create_unverified_context', None):\n",
    "        ssl._create_default_https_context = ssl._create_unverified_context\n",
    "\n",
    "allowSelfSignedHttps(True) # this line is needed if you use self-signed certificate in your scoring service.\n",
    "\n",
    "# Request data goes here\n",
    "data = {'data':[df.iloc[row,:].to_json()]}\n",
    "\n",
    "body = str.encode(json.dumps(data))\n",
    "\n",
    "url = 'https://klarna-case-czbht.northeurope.inference.ml.azure.com/score'\n",
    "# Replace this with the primary/secondary key or AMLToken for the endpoint\n",
    "api_key = '2I8xodkAk8EjJn2ae59oHB67b8lQjn0r'\n",
    "if not api_key:\n",
    "    raise Exception(\"A key should be provided to invoke the endpoint\")\n",
    "\n",
    "\n",
    "headers = {'Content-Type':'application/json', 'Authorization':('Bearer '+ api_key), 'azureml-model-deployment': 'classifier-1' }\n",
    "\n",
    "req = urllib.request.Request(url, body, headers)\n",
    "\n",
    "\n",
    "try:\n",
    "    response = urllib.request.urlopen(req)\n",
    "\n",
    "    result = response.read()\n",
    "    pd = result.decode(\"utf-8\").strip('][').split(', ')[0]\n",
    "    \n",
    "    print(\"The probability of default for this uuid is {:.4f}.\".format(float(pd)))\n",
    "    \n",
    "except urllib.error.HTTPError as error:\n",
    "    print(\"The request failed with status code: \" + str(error.code))\n",
    "\n",
    "    \n",
    "    print(error.info())\n",
    "    print(error.read().decode(\"utf8\", 'ignore'))"
   ]
  }
 ],
 "metadata": {
  "kernelspec": {
   "display_name": "Python 3 (ipykernel)",
   "language": "python",
   "name": "python3"
  },
  "language_info": {
   "codemirror_mode": {
    "name": "ipython",
    "version": 3
   },
   "file_extension": ".py",
   "mimetype": "text/x-python",
   "name": "python",
   "nbconvert_exporter": "python",
   "pygments_lexer": "ipython3",
   "version": "3.9.17"
  }
 },
 "nbformat": 4,
 "nbformat_minor": 5
}
